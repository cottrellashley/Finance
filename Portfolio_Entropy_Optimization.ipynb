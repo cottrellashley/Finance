{
 "cells": [
  {
   "cell_type": "code",
   "execution_count": 1,
   "id": "e5867d55-8580-4901-a54d-56fa2c8495c0",
   "metadata": {},
   "outputs": [],
   "source": [
    "import numpy as np\n",
    "import scipy as sp\n",
    "from scipy.optimize import minimize\n",
    "from scipy.optimize import Bounds"
   ]
  },
  {
   "cell_type": "markdown",
   "id": "b0e4de80-98d0-4536-80fd-40d5db5b74d0",
   "metadata": {
    "tags": []
   },
   "source": [
    "# Mathematical Background\n",
    "\n",
    "We model an Investment Portfolio as follows:\n",
    "\n",
    "$$ \\omega = \\left( \\omega_{1} , \\omega_{2}, ... , \\omega_{N}\\right) $$\n",
    "\n",
    "With constraint\n",
    "\n",
    "$$ \\sum_{i = 1}^{N} \\omega_{i} = 1 $$\n",
    "\n",
    "Such that our investment $I = $ £ $X$ punds becomes diversified into\n",
    "\n",
    "$$ I = X\\omega_{1} + X\\omega_{2} + ... + X\\omega_{N} $$\n",
    "\n",
    "The return on an investment is the sum of all individual returns:\n",
    "\n",
    "$$ r = \\sum_{i = 1}^{N} r_i \\omega_{i} $$\n",
    "\n",
    "Multiply this by $X$ from $I =$ £ $X$ and we find the return on our invested pounds\n",
    "\n",
    "Expected Returns: We denote the expected returns on an investment (before we make the trade) as $\\mu_{i}$ and therefore the total expected return as \n",
    "\n",
    "$$ \\mu  = \\sum_{i = 1}^{N} \\mu_{i} \\omega_{i} $$ \n",
    "\n",
    "## The Constrants:\n",
    "\n",
    "What it does not do: This model tells you nothing of the expected returns $\\mu$ or how to calculate them. This must be done through assumptions from outside of the model.\n",
    "\n",
    "What it does do: This model calculates $\\omega$ distribution via just one method of maximizing the entropy based on some constraints and expected returns $\\mu$ as imputs.\n",
    "\n",
    "Input:\n",
    "\n",
    "$$ In = \\mu$$\n",
    "\n",
    "Constraints:\n",
    "\n",
    "1. Maximise Entropy: $$ E(\\omega) = \\sum_{i = 1}^{N} - \\omega_{i} \\ln \\omega_{i} $$\n",
    "\n",
    "2. Maximise Total Returns: $$ \\mu  = \\sum_{i = 1}^{N} \\mu_{i} \\omega_{i} $$ \n",
    "\n",
    "3. Unit Sum of Portfolio: $$ \\sum_{i = 1}^{N} \\omega_{i} = 1 $$\n",
    "\n",
    "Output:\n",
    "\n",
    "$$ Out = \\omega$$\n",
    "\n",
    "## Rational idea behind the model:\n",
    "\n",
    "Given a distribution of expected returns on investments, each with their own risks and uncertainties, there are many probability distributions for any set of these. We would like to find what is the distribution $\\omega$ based on this expected returns $\\mu$ for which maximizes the amount of unertainty. In other words, it is the distribution least committed to the information not given to us. And therefore, it is the distribution with the least amount of bias in the model."
   ]
  },
  {
   "cell_type": "markdown",
   "id": "9b97a757-0ad2-4ce5-8341-09b1c8ed1098",
   "metadata": {},
   "source": [
    "# Inputs:\n",
    "\n",
    "Our input is an array of the expected return on investment for that perticular investment.\n",
    "\n",
    "Example 1: Equal returns on each share"
   ]
  },
  {
   "cell_type": "code",
   "execution_count": 2,
   "id": "7f6bfe24-cc1a-4864-91bb-e3d49fd21d29",
   "metadata": {},
   "outputs": [],
   "source": [
    "uniform_r = np.array([1,1,1,1,1,1,1,1,1,1])"
   ]
  },
  {
   "cell_type": "markdown",
   "id": "2debfe9c-abb3-46af-989c-923acdda53d3",
   "metadata": {},
   "source": [
    "Example 2: One investment is expected to make you rich, whilst all the others are expected to not do much"
   ]
  },
  {
   "cell_type": "code",
   "execution_count": 3,
   "id": "c45166fd-2802-4a3e-b182-273654c6f9e6",
   "metadata": {},
   "outputs": [],
   "source": [
    "inv_r = np.array([1,1,1,1,1,1,1,1,1,100])"
   ]
  },
  {
   "cell_type": "markdown",
   "id": "2585e6a7-4938-4ea0-bf08-c73aa2c1e7a8",
   "metadata": {},
   "source": [
    "Example 3: A more realistic uniform random distribution between 0 and 2"
   ]
  },
  {
   "cell_type": "code",
   "execution_count": 4,
   "id": "d715749c-ee16-418e-bfca-aa5045c80489",
   "metadata": {},
   "outputs": [],
   "source": [
    "uni_r = np.sort(np.random.uniform(0,10,20))"
   ]
  },
  {
   "cell_type": "markdown",
   "id": "7334069e-2759-4446-a0a3-e33255766296",
   "metadata": {},
   "source": [
    "# Model:\n",
    "\n",
    "What we want is to find the optimal portfolio distribution $\\omega$ such that the both of the following are simultaneously maximised:\n",
    "\n",
    "1. Entropy of the portfolio: $E(\\omega) = \\sum_{i = 1}^{N} - \\omega_{i} \\ln \\omega_{i}$\n",
    "\n",
    "2. Total expected return on investment: $R(\\omega) = (I) \\times \\sum_{i = 1}^{N} \\mu_{i} \\omega_{i}$\n",
    "\n",
    "By maximizing both, what we are therefore looking for is the $\\omega$ for which given a constant $\\mu$, it will minimize the following:\n",
    "\n",
    "$$ L = \\left( \\sum_{i = 1}^{N} - \\omega_{i} \\ln \\omega_{i}  \\right)  -  \\left( \\sum_{i = 1}^{N} \\mu_{i} \\omega_{i} \\right)$$\n",
    "\n",
    "Given this rather simple optoimization function, we can now use SciPy optimization function to numericlly miniminize the above and find the optimal portfolio distribution according to our Entropy model."
   ]
  },
  {
   "cell_type": "code",
   "execution_count": 5,
   "id": "98d7f15d-e58a-48ce-927e-ab98694a3a94",
   "metadata": {},
   "outputs": [],
   "source": [
    "def optimal(mu):\n",
    "    \n",
    "    N = len(mu)\n",
    "    initial_guess = np.random.random(N)\n",
    "    \n",
    "    def f(x, arg):\n",
    "        o = (1/sum(x)*x)\n",
    "        return sum(o*np.log(o)) - sum(arg*o)\n",
    "    \n",
    "    \n",
    "    ans = minimize(f, x0 = initial_guess, args = mu, bounds = Bounds(0.0001*np.ones_like(initial_guess), np.ones_like(initial_guess)))['x']\n",
    "    \n",
    "    omega = (1/sum(ans))*ans\n",
    "    \n",
    "    return (omega, mu)"
   ]
  },
  {
   "cell_type": "markdown",
   "id": "b67ad6ef-3491-45fb-b426-87b567dfd7d3",
   "metadata": {},
   "source": [
    "# Outputs\n",
    "\n",
    "### Example 1:\n",
    "The expected result here is equal distribution of investment between all the shares"
   ]
  },
  {
   "cell_type": "code",
   "execution_count": 6,
   "id": "e47da583-d989-4f0e-887e-af6d58f0fc50",
   "metadata": {},
   "outputs": [],
   "source": [
    "omega, mu = optimal(uniform_r)"
   ]
  },
  {
   "cell_type": "code",
   "execution_count": 7,
   "id": "6f33671b-9c05-4611-9726-19305921d22a",
   "metadata": {},
   "outputs": [
    {
     "data": {
      "text/plain": [
       "array([0.09999997, 0.10000001, 0.09999991, 0.0999989 , 0.10000057,\n",
       "       0.0999999 , 0.09999989, 0.10000075, 0.10000012, 0.09999998])"
      ]
     },
     "execution_count": 7,
     "metadata": {},
     "output_type": "execute_result"
    }
   ],
   "source": [
    "omega"
   ]
  },
  {
   "cell_type": "markdown",
   "id": "82bb16d1-ed6a-4a72-a928-903f543bb03f",
   "metadata": {},
   "source": [
    "As expected, our model suggets that we devide our investment evenly between all the shares."
   ]
  },
  {
   "cell_type": "markdown",
   "id": "dfadde92-332c-47a8-92d8-43fecce63784",
   "metadata": {},
   "source": [
    "### Example 2\n",
    "\n",
    "The expected result is that our model will suggest us to invest most of our wealth into the share with the highest return on investment, whilst almost nothing on the other shares."
   ]
  },
  {
   "cell_type": "code",
   "execution_count": 8,
   "id": "b884a5d8-0aa0-4d44-b339-c057a98c1a84",
   "metadata": {},
   "outputs": [],
   "source": [
    "omega, mu = optimal(inv_r)"
   ]
  },
  {
   "cell_type": "code",
   "execution_count": 9,
   "id": "a28aa050-f95d-455b-b943-bed01c146c8b",
   "metadata": {},
   "outputs": [
    {
     "data": {
      "text/plain": [
       "array([9.99100809e-05, 9.99100809e-05, 9.99100809e-05, 9.99100809e-05,\n",
       "       9.99100809e-05, 9.99100809e-05, 9.99100809e-05, 9.99100809e-05,\n",
       "       9.99100809e-05, 9.99100809e-01])"
      ]
     },
     "execution_count": 9,
     "metadata": {},
     "output_type": "execute_result"
    }
   ],
   "source": [
    "omega"
   ]
  },
  {
   "cell_type": "markdown",
   "id": "2a595fcf-c429-4718-954c-7070c444c5c9",
   "metadata": {},
   "source": [
    "As expected, most of the weight of our portfolio is on the one share with the disproportionate high expected return on investement."
   ]
  },
  {
   "cell_type": "markdown",
   "id": "0a56f0c9-7abd-4327-b62f-5100a988d95a",
   "metadata": {},
   "source": [
    "### Example 3\n",
    "\n",
    "The expected result is a more evenly distributed portfolio, however, shares with a higher return on investment will have most of the weight."
   ]
  },
  {
   "cell_type": "code",
   "execution_count": 10,
   "id": "9f542fb8-25f1-432c-be5e-1de88613a14f",
   "metadata": {},
   "outputs": [],
   "source": [
    "omega, mu = optimal(uni_r)"
   ]
  },
  {
   "cell_type": "code",
   "execution_count": 11,
   "id": "462c0a75-f2fe-484e-a83d-2adab5bf2c1d",
   "metadata": {},
   "outputs": [
    {
     "data": {
      "text/plain": [
       "(array([9.17435369e-05, 1.80407457e-04, 2.06839567e-04, 2.10586843e-04,\n",
       "        2.11584355e-04, 3.65245591e-04, 4.16381686e-04, 5.39198288e-04,\n",
       "        6.82716997e-04, 8.68829586e-04, 1.03831569e-03, 1.72081195e-03,\n",
       "        3.45497362e-03, 4.96024415e-03, 4.56885253e-02, 5.11965608e-02,\n",
       "        1.22931508e-01, 2.52553605e-01, 2.55295187e-01, 2.57386735e-01]),\n",
       " array([1.95272478, 2.62872112, 2.76245954, 2.78329997, 2.78622917,\n",
       "        3.33327891, 3.46445544, 3.72287005, 3.95871197, 4.19992989,\n",
       "        4.38021672, 4.88275898, 5.57954738, 5.93961285, 8.16188883,\n",
       "        8.27741825, 9.15104313, 9.87354937, 9.88099382, 9.89210402]))"
      ]
     },
     "execution_count": 11,
     "metadata": {},
     "output_type": "execute_result"
    }
   ],
   "source": [
    "omega, mu"
   ]
  },
  {
   "cell_type": "markdown",
   "id": "5fa3a66d-6ff4-47e0-beb0-5ac34b703078",
   "metadata": {},
   "source": [
    "As expected, the shares with highest expected return on investments hold the most amount of the invested wealth, decreasing as expected return decreases."
   ]
  },
  {
   "cell_type": "code",
   "execution_count": null,
   "id": "e8515337-a1e6-481b-bfaa-86d1ae1774ad",
   "metadata": {},
   "outputs": [],
   "source": []
  }
 ],
 "metadata": {
  "kernelspec": {
   "display_name": "Python 3 (ipykernel)",
   "language": "python",
   "name": "python3"
  },
  "language_info": {
   "codemirror_mode": {
    "name": "ipython",
    "version": 3
   },
   "file_extension": ".py",
   "mimetype": "text/x-python",
   "name": "python",
   "nbconvert_exporter": "python",
   "pygments_lexer": "ipython3",
   "version": "3.9.7"
  }
 },
 "nbformat": 4,
 "nbformat_minor": 5
}
